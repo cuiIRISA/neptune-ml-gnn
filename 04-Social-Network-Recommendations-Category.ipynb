{
 "cells": [
  {
   "cell_type": "markdown",
   "metadata": {},
   "source": [
    "Copyright Amazon.com, Inc. or its affiliates. All Rights Reserved.\n",
    "SPDX-License-Identifier: Apache-2.0"
   ]
  },
  {
   "cell_type": "markdown",
   "metadata": {
    "slideshow": {
     "slide_type": "-"
    }
   },
   "source": [
    "# Social Network Recommendations\n",
    "\n",
    "In this example we're going to build a powerful social network predictive capability with Netpune ML. The techniques intrdocued here can be used to build predictions in other domains outside of social.\n",
    "\n",
    "The code sample is based on Neptune ML code samples, see https://docs.aws.amazon.com/neptune/latest/userguide/machine-learning.html\n",
    "\n",
    "### People You May Know\n",
    "\n",
    "A common feature of many social network applications is the ability to recommend People-You-May-Know (or People-You-May-Want-To-Know) – sometimes abbreviated PYMK.\n",
    "\n",
    "Let's imagine we have a social network whose members include Bill, Terry and Sarah. Terry is friends with both Bill and Sarah; that is, Terry and Sarah have a mutual friend in Bill. \n",
    "\n",
    "Because they have Bill in common, there's a good chance that Sarah and Bill either already know one other or may get to know one another in the near future. Just looking at the graph, we can see they have both the *means* and the *motive* to be friends. Hanging around with Bill provides the means for Sarah and Terry to meet. And because they trust Bill, they have the motive to trust people with whom Bill is friends, increasing the chance that if they do meet, they'll form a connection and close the triangle.\n",
    "\n",
    "In the context of a social network, we can use triadic closure to implement PYMK. When a particular user logs into the system, we can look up their vertex in the graph, and then traverse their friend-of-a-friend network, looking for opportunities to close triangles. The more paths that extend from our user, through their immediate friends, to someone to whom they are not currently connected, the greater the likelihood the user may either already know that person, or may benefit from getting to know them."
   ]
  },
  {
   "cell_type": "markdown",
   "metadata": {},
   "source": [
    "### Setup\n",
    "\n",
    "Before we begin, we'll clear any existing data from our Neptune cluster, using the cell magic `%%gremlin` and a subsequent drop query:"
   ]
  },
  {
   "cell_type": "code",
   "execution_count": 383,
   "metadata": {},
   "outputs": [
    {
     "data": {
      "application/vnd.jupyter.widget-view+json": {
       "model_id": "8ee266f6a7594ac485e8c8ff15ffc83c",
       "version_major": 2,
       "version_minor": 0
      },
      "text/plain": [
       "Tab(children=(Output(layout=Layout(max_height='600px', overflow='scroll', width='100%')), Output(layout=Layout…"
      ]
     },
     "metadata": {},
     "output_type": "display_data"
    }
   ],
   "source": [
    "%%gremlin\n",
    "\n",
    "g.V().drop()"
   ]
  },
  {
   "cell_type": "markdown",
   "metadata": {},
   "source": [
    "How do we know which Neptune cluster to access? The cell magics exposed by Neptune Notebooks use a configuration located by default under `~/graph_notebook_config.json` At the time of initialization of the Sagemaker instance, this configuration is generated using environment variables derived from the cluster being connected to. \n",
    "\n",
    "You can check the contents of the configuration in two ways. You can print the file itself, or you can look for the configuration being used by the notebook which you have opened."
   ]
  },
  {
   "cell_type": "code",
   "execution_count": 384,
   "metadata": {
    "scrolled": true
   },
   "outputs": [
    {
     "name": "stdout",
     "output_type": "stream",
     "text": [
      "{\n",
      "  \"host\": \"neptunedbcluster-gtdhydmqdzgt.cluster-c6g3m9gnkltx.eu-west-2.neptune.amazonaws.com\",\n",
      "  \"port\": 8182,\n",
      "  \"auth_mode\": \"DEFAULT\",\n",
      "  \"load_from_s3_arn\": \"arn:aws:iam::707684582322:role/NeptuneMLQuickStart-NeptuneB-NeptuneLoadFromS3Role-QLGFKTDYTKJD\",\n",
      "  \"ssl\": true,\n",
      "  \"aws_region\": \"eu-west-2\",\n",
      "  \"sparql\": {\n",
      "    \"path\": \"sparql\"\n",
      "  }\n",
      "}"
     ]
    }
   ],
   "source": [
    "%%bash\n",
    "\n",
    "cat ~/graph_notebook_config.json"
   ]
  },
  {
   "cell_type": "code",
   "execution_count": 385,
   "metadata": {
    "scrolled": true
   },
   "outputs": [
    {
     "name": "stdout",
     "output_type": "stream",
     "text": [
      "{\n",
      "  \"host\": \"neptunedbcluster-gtdhydmqdzgt.cluster-c6g3m9gnkltx.eu-west-2.neptune.amazonaws.com\",\n",
      "  \"port\": 8182,\n",
      "  \"auth_mode\": \"DEFAULT\",\n",
      "  \"load_from_s3_arn\": \"arn:aws:iam::707684582322:role/NeptuneMLQuickStart-NeptuneB-NeptuneLoadFromS3Role-QLGFKTDYTKJD\",\n",
      "  \"ssl\": true,\n",
      "  \"aws_region\": \"eu-west-2\",\n",
      "  \"sparql\": {\n",
      "    \"path\": \"sparql\"\n",
      "  }\n",
      "}\n"
     ]
    },
    {
     "data": {
      "text/plain": [
       "<graph_notebook.configuration.generate_config.Configuration at 0x7fcda0745f98>"
      ]
     },
     "execution_count": 385,
     "metadata": {},
     "output_type": "execute_result"
    }
   ],
   "source": [
    "%graph_notebook_config"
   ]
  },
  {
   "cell_type": "markdown",
   "metadata": {},
   "source": [
    "### Create a Social Network\n",
    "\n",
    "Next, we'll create a small social network. Note that the script below comprises a single statement. All the vertices and edges here will be created in the context of a single transaction."
   ]
  },
  {
   "cell_type": "code",
   "execution_count": 386,
   "metadata": {},
   "outputs": [
    {
     "data": {
      "application/vnd.jupyter.widget-view+json": {
       "model_id": "310ebb7c57214815b982068ac722d370",
       "version_major": 2,
       "version_minor": 0
      },
      "text/plain": [
       "Tab(children=(Output(layout=Layout(max_height='600px', overflow='scroll', width='100%')), Output(layout=Layout…"
      ]
     },
     "metadata": {},
     "output_type": "display_data"
    }
   ],
   "source": [
    "%%gremlin\n",
    "\n",
    "g.\n",
    "addV('User').property('name','Bill').property('interests', 'arts;comics;games;sports').\n",
    "addV('User').property('name','Sarah').property('interests', 'arts').\n",
    "addV('User').property('name','Ben').property('interests', 'electronics').\n",
    "addV('User').property('name','Lucy').property('interests', 'electronics').\n",
    "addV('User').property('name','Colin').property('interests', 'games;sports').\n",
    "addV('User').property('name','Emily').property('interests', 'sports').\n",
    "addV('User').property('name','Gordon').property('interests', 'sports').\n",
    "addV('User').property('name','Kate').property('interests', 'arts').\n",
    "addV('User').property('name','Peter').property('interests', 'games').\n",
    "addV('User').property('name','Terry').property('interests', 'sports').\n",
    "addV('User').property('name','Alistair').property('interests', 'arts;sports').\n",
    "addV('User').property('name','Eve').property('interests', 'arts;electronics').\n",
    "addV('User').property('name','Gary').property('interests', 'sports').\n",
    "addV('User').property('name','Mary').property('interests', 'comics;games').\n",
    "addV('User').property('name','Charlie').property('interests', 'games;electronics').\n",
    "addV('User').property('name','Sue').property('interests', 'electronics').\n",
    "addV('User').property('name','Arnold').property('interests', 'comics;games').\n",
    "addV('User').property('name','Chloe').property('interests', 'sports').\n",
    "addV('User').property('name','Henry').property('interests', 'arts;comics;games').\n",
    "addV('User').property('name','Josie').property('interests', 'electronics').\n",
    "V().hasLabel('User').has('name','Sarah').as('a').V().hasLabel('User').has('name','Bill').addE('FRIEND').to('a').property('strength',1).\n",
    "V().hasLabel('User').has('name','Colin').as('a').V().hasLabel('User').has('name','Bill').addE('FRIEND').to('a').property('strength',2).\n",
    "V().hasLabel('User').has('name','Terry').as('a').V().hasLabel('User').has('name','Bill').addE('FRIEND').to('a').property('strength',3).\n",
    "V().hasLabel('User').has('name','Peter').as('a').V().hasLabel('User').has('name','Colin').addE('FRIEND').to('a').property('strength',1).\n",
    "V().hasLabel('User').has('name','Kate').as('a').V().hasLabel('User').has('name','Ben').addE('FRIEND').to('a').property('strength',2).\n",
    "V().hasLabel('User').has('name','Kate').as('a').V().hasLabel('User').has('name','Lucy').addE('FRIEND').to('a').property('strength',3).\n",
    "V().hasLabel('User').has('name','Eve').as('a').V().hasLabel('User').has('name','Lucy').addE('FRIEND').to('a').property('strength',1).\n",
    "V().hasLabel('User').has('name','Alistair').as('a').V().hasLabel('User').has('name','Kate').addE('FRIEND').to('a').property('strength',2).\n",
    "V().hasLabel('User').has('name','Gary').as('a').V().hasLabel('User').has('name','Colin').addE('FRIEND').to('a').property('strength',3).\n",
    "V().hasLabel('User').has('name','Gordon').as('a').V().hasLabel('User').has('name','Emily').addE('FRIEND').to('a').property('strength',1).\n",
    "V().hasLabel('User').has('name','Alistair').as('a').V().hasLabel('User').has('name','Emily').addE('FRIEND').to('a').property('strength',3).\n",
    "V().hasLabel('User').has('name','Terry').as('a').V().hasLabel('User').has('name','Gordon').addE('FRIEND').to('a').property('strength',3).\n",
    "V().hasLabel('User').has('name','Alistair').as('a').V().hasLabel('User').has('name','Terry').addE('FRIEND').to('a').property('strength',1).\n",
    "V().hasLabel('User').has('name','Gary').as('a').V().hasLabel('User').has('name','Terry').addE('FRIEND').to('a').property('strength',2).\n",
    "V().hasLabel('User').has('name','Mary').as('a').V().hasLabel('User').has('name','Terry').addE('FRIEND').to('a').property('strength',3).\n",
    "V().hasLabel('User').has('name','Henry').as('a').V().hasLabel('User').has('name','Alistair').addE('FRIEND').to('a').property('strength',1).\n",
    "V().hasLabel('User').has('name','Sue').as('a').V().hasLabel('User').has('name','Eve').addE('FRIEND').to('a').property('strength',2).\n",
    "V().hasLabel('User').has('name','Sue').as('a').V().hasLabel('User').has('name','Charlie').addE('FRIEND').to('a').property('strength',3).\n",
    "V().hasLabel('User').has('name','Josie').as('a').V().hasLabel('User').has('name','Charlie').addE('FRIEND').to('a').property('strength',1).\n",
    "V().hasLabel('User').has('name','Henry').as('a').V().hasLabel('User').has('name','Charlie').addE('FRIEND').to('a').property('strength',2).\n",
    "V().hasLabel('User').has('name','Henry').as('a').V().hasLabel('User').has('name','Mary').addE('FRIEND').to('a').property('strength',3).\n",
    "V().hasLabel('User').has('name','Mary').as('a').V().hasLabel('User').has('name','Gary').addE('FRIEND').to('a').property('strength',1).\n",
    "V().hasLabel('User').has('name','Henry').as('a').V().hasLabel('User').has('name','Gary').addE('FRIEND').to('a').property('strength',2).\n",
    "V().hasLabel('User').has('name','Chloe').as('a').V().hasLabel('User').has('name','Gary').addE('FRIEND').to('a').property('strength',3).\n",
    "V().hasLabel('User').has('name','Henry').as('a').V().hasLabel('User').has('name','Arnold').addE('FRIEND').to('a').property('strength',1).\n",
    "next()"
   ]
  },
  {
   "cell_type": "markdown",
   "metadata": {},
   "source": [
    "This is what the network looks like:\n",
    "    \n",
    "<img src=\"https://s3.amazonaws.com/aws-neptune-customer-samples/neptune-sagemaker/images/03-social-network.png\"/>"
   ]
  },
  {
   "cell_type": "markdown",
   "metadata": {},
   "source": [
    "### Create a Recommendation\n",
    "\n",
    "Let's now create a PYMK recommendation for a specific user.\n",
    "\n",
    "In the query below, we're finding the vertex that represents our user. We're then traversing `FRIEND` relationships (we don't care about relationship direction, so we're using `both()`) to find that user's immediate friends. We're then traversing another hop into the graph, looking for friends of those friends who _are not currently connected to our user_ (i.e., we're looking for the unclosed triangles).\n",
    "\n",
    "We then count the paths to these candidate friends, and order the results based on the number of times we can reach a candidate via one of the user's immediate friends."
   ]
  },
  {
   "cell_type": "code",
   "execution_count": 387,
   "metadata": {
    "scrolled": true
   },
   "outputs": [
    {
     "data": {
      "application/vnd.jupyter.widget-view+json": {
       "model_id": "e552a0299b8d4ddc9b0dd9778b902cd7",
       "version_major": 2,
       "version_minor": 0
      },
      "text/plain": [
       "Tab(children=(Output(layout=Layout(max_height='600px', overflow='scroll', width='100%')), Output(layout=Layout…"
      ]
     },
     "metadata": {},
     "output_type": "display_data"
    }
   ],
   "source": [
    "%%gremlin\n",
    "\n",
    "g.V().hasLabel('User').has('name', 'Terry').as('user').  \n",
    "  both('FRIEND').aggregate('friends').  \n",
    "  both('FRIEND').\n",
    "    where(P.neq('user')).where(P.without('friends')).  \n",
    "  groupCount().by('name').  \n",
    "  order(Scope.local).by(values, Order.decr).\n",
    "  next()"
   ]
  },
  {
   "cell_type": "markdown",
   "metadata": {},
   "source": [
    "### Using Friendship Strength to Improve Recommendations\n",
    "\n",
    "What if we wanted to base our recommendations only on resonably strong friendship bonds?\n",
    "\n",
    "If you look at the Gremlin we used to create our graph, you'll see that each `FRIEND` edge has a `strength` property. In the following query, the traversal applies a predicate to this `strength` property. Note that we use `bothE()` rather than `both()` to position the traversal on an edge, where we then apply the predicate. We proceed only where `strength` is greater than one."
   ]
  },
  {
   "cell_type": "code",
   "execution_count": 388,
   "metadata": {
    "scrolled": true
   },
   "outputs": [
    {
     "data": {
      "application/vnd.jupyter.widget-view+json": {
       "model_id": "dfe02884bce242a5bcdf500bf5a4408a",
       "version_major": 2,
       "version_minor": 0
      },
      "text/plain": [
       "Tab(children=(Output(layout=Layout(max_height='600px', overflow='scroll', width='100%')), Output(layout=Layout…"
      ]
     },
     "metadata": {},
     "output_type": "display_data"
    }
   ],
   "source": [
    "%%gremlin\n",
    "\n",
    "g.V().hasLabel('User').has('name', 'Terry').as('user')\n",
    "  .bothE('FRIEND')    \n",
    "    .has('strength', P.gt(1)).otherV()\n",
    "    .aggregate('friends')\n",
    "  .bothE('FRIEND')\n",
    "    .has('strength', P.gt(1)).otherV()\n",
    "    .where(P.neq('user')).where(P.without('friends'))\n",
    "  .groupCount().by('name')\n",
    "  .order(Scope.local).by(values, Order.decr)\n",
    "  .next()\n"
   ]
  },
  {
   "cell_type": "markdown",
   "metadata": {},
   "source": [
    "### Number of users in the graph "
   ]
  },
  {
   "cell_type": "code",
   "execution_count": 389,
   "metadata": {},
   "outputs": [
    {
     "data": {
      "application/vnd.jupyter.widget-view+json": {
       "model_id": "ca709c63f1f147bc85528e271e0b6045",
       "version_major": 2,
       "version_minor": 0
      },
      "text/plain": [
       "Tab(children=(Output(layout=Layout(max_height='600px', overflow='scroll', width='100%')), Output(layout=Layout…"
      ]
     },
     "metadata": {},
     "output_type": "display_data"
    }
   ],
   "source": [
    "%%gremlin\n",
    "g.V().groupCount().by(label).unfold()"
   ]
  },
  {
   "cell_type": "markdown",
   "metadata": {},
   "source": [
    "### Number of relations among users"
   ]
  },
  {
   "cell_type": "code",
   "execution_count": 390,
   "metadata": {},
   "outputs": [
    {
     "data": {
      "application/vnd.jupyter.widget-view+json": {
       "model_id": "5df3c359abc24160a56f76465e74e0f8",
       "version_major": 2,
       "version_minor": 0
      },
      "text/plain": [
       "Tab(children=(Output(layout=Layout(max_height='600px', overflow='scroll', width='100%')), Output(layout=Layout…"
      ]
     },
     "metadata": {},
     "output_type": "display_data"
    }
   ],
   "source": [
    "%%gremlin\n",
    "g.E().groupCount().by(label).unfold()"
   ]
  },
  {
   "cell_type": "markdown",
   "metadata": {},
   "source": [
    "### Explore Terry's friends"
   ]
  },
  {
   "cell_type": "code",
   "execution_count": 391,
   "metadata": {},
   "outputs": [
    {
     "data": {
      "application/vnd.jupyter.widget-view+json": {
       "model_id": "d91bbba4ec954895b7ef7345f2f55b42",
       "version_major": 2,
       "version_minor": 0
      },
      "text/plain": [
       "Tab(children=(Output(layout=Layout(max_height='600px', overflow='scroll', width='100%')), Output(layout=Layout…"
      ]
     },
     "metadata": {},
     "output_type": "display_data"
    }
   ],
   "source": [
    "%%gremlin\n",
    "\n",
    "g.V().hasLabel('User').has('name', 'Terry').both('FRIEND').groupCount().by('name')"
   ]
  },
  {
   "cell_type": "code",
   "execution_count": 392,
   "metadata": {},
   "outputs": [
    {
     "data": {
      "application/vnd.jupyter.widget-view+json": {
       "model_id": "abe3b032471d408c83135a403b0ae7f4",
       "version_major": 2,
       "version_minor": 0
      },
      "text/plain": [
       "Tab(children=(Output(layout=Layout(max_height='600px', overflow='scroll', width='100%')), Output(layout=Layout…"
      ]
     },
     "metadata": {},
     "output_type": "display_data"
    }
   ],
   "source": [
    "%%gremlin\n",
    "\n",
    "g.V().hasLabel('User').has('name', 'Terry').both('FRIEND').groupCount().by('interests')"
   ]
  },
  {
   "cell_type": "markdown",
   "metadata": {},
   "source": [
    "## Setup for graph export to s3 "
   ]
  },
  {
   "cell_type": "code",
   "execution_count": 393,
   "metadata": {},
   "outputs": [
    {
     "data": {
      "text/plain": [
       "'s3://eu-west-2-my-bucket-7076/neptune-ml-social-network-category'"
      ]
     },
     "execution_count": 393,
     "metadata": {},
     "output_type": "execute_result"
    }
   ],
   "source": [
    "s3_bucket_uri=\"s3://eu-west-2-my-bucket-7076/neptune-ml-social-network-category/\"\n",
    "# remove trailing slashes\n",
    "s3_bucket_uri = s3_bucket_uri[:-1] if s3_bucket_uri.endswith('/') else s3_bucket_uri\n",
    "s3_bucket_uri"
   ]
  },
  {
   "cell_type": "code",
   "execution_count": 394,
   "metadata": {},
   "outputs": [],
   "source": [
    "HOME_DIRECTORY = '~'\n",
    "\n",
    "import os \n",
    "import json\n",
    "import logging\n",
    "def load_configuration():\n",
    "    with open(os.path.expanduser(f'{HOME_DIRECTORY}/graph_notebook_config.json')) as f:\n",
    "        data = json.load(f)\n",
    "        host = data['host']\n",
    "        port = data['port']\n",
    "        if data['auth_mode'] == 'IAM':\n",
    "            iam = True\n",
    "        else:\n",
    "            iam = False\n",
    "    return host, port, iam\n",
    "\n",
    "\n",
    "def get_host():\n",
    "    host, port, iam = load_configuration()\n",
    "    return host"
   ]
  },
  {
   "cell_type": "code",
   "execution_count": 395,
   "metadata": {},
   "outputs": [
    {
     "data": {
      "text/plain": [
       "'neptunedbcluster-gtdhydmqdzgt.cluster-c6g3m9gnkltx.eu-west-2.neptune.amazonaws.com'"
      ]
     },
     "execution_count": 395,
     "metadata": {},
     "output_type": "execute_result"
    }
   ],
   "source": [
    "neptune_host = get_host()\n",
    "neptune_host"
   ]
  },
  {
   "cell_type": "code",
   "execution_count": null,
   "metadata": {},
   "outputs": [],
   "source": []
  },
  {
   "cell_type": "code",
   "execution_count": 396,
   "metadata": {},
   "outputs": [],
   "source": [
    "from urllib.parse import urlparse\n",
    "\n",
    "def get_export_service_host():\n",
    "    with open(os.path.expanduser(f'{HOME_DIRECTORY}/.bashrc')) as f:\n",
    "        data = f.readlines()\n",
    "        print(data)\n",
    "    for d in data:\n",
    "        if str.startswith(d, 'export NEPTUNE_EXPORT_API_URI'):\n",
    "            parts = d.split('=')\n",
    "            if len(parts) == 2:\n",
    "                path = urlparse(parts[1].rstrip())\n",
    "                return path.hostname + \"/v1\"\n",
    "    logging.error(\n",
    "        \"Unable to determine the Neptune Export Service Endpoint. You will need to enter this or assign it manually.\")\n",
    "    return None"
   ]
  },
  {
   "cell_type": "code",
   "execution_count": 397,
   "metadata": {},
   "outputs": [
    {
     "name": "stdout",
     "output_type": "stream",
     "text": [
      "['# .bashrc\\n', '\\n', '# Source global definitions\\n', 'if [ -f /etc/bashrc ]; then\\n', '\\t. /etc/bashrc\\n', 'fi\\n', '\\n', '# User specific aliases and functions\\n', '\\n', '# >>> conda initialize >>>\\n', \"# !! Contents within this block are managed by 'conda init' !!\\n\", '__conda_setup=\"$(\\'/home/ec2-user/anaconda3/bin/conda\\' \\'shell.bash\\' \\'hook\\' 2> /dev/null)\"\\n', 'if [ $? -eq 0 ]; then\\n', '    eval \"$__conda_setup\"\\n', 'else\\n', '    if [ -f \"/home/ec2-user/anaconda3/etc/profile.d/conda.sh\" ]; then\\n', '        . \"/home/ec2-user/anaconda3/etc/profile.d/conda.sh\"\\n', '    else\\n', '        export PATH=\"/home/ec2-user/anaconda3/bin:$PATH\"\\n', '    fi\\n', 'fi\\n', 'unset __conda_setup\\n', '# <<< conda initialize <<<\\n', '\\n', 'export GRAPH_NOTEBOOK_AUTH_MODE=DEFAULT\\n', 'export GRAPH_NOTEBOOK_IAM_PROVIDER=ROLE\\n', 'export GRAPH_NOTEBOOK_SSL=True\\n', 'export GRAPH_NOTEBOOK_HOST=neptunedbcluster-gtdhydmqdzgt.cluster-c6g3m9gnkltx.eu-west-2.neptune.amazonaws.com\\n', 'export GRAPH_NOTEBOOK_PORT=8182\\n', 'export NEPTUNE_LOAD_FROM_S3_ROLE_ARN=arn:aws:iam::707684582322:role/NeptuneMLQuickStart-NeptuneB-NeptuneLoadFromS3Role-QLGFKTDYTKJD\\n', 'export AWS_REGION=eu-west-2\\n', 'export NEPTUNE_ML_ROLE_ARN=arn:aws:iam::707684582322:role/NeptuneMLQuickStart-NeptunMLCoreS-NeptuneMLIAMRole-1UP2RBS6SBUFY\\n', 'export NEPTUNE_EXPORT_API_URI=https://uf2e9s2onb.execute-api.eu-west-2.amazonaws.com/v1/neptune-export\\n']\n"
     ]
    },
    {
     "data": {
      "text/plain": [
       "'uf2e9s2onb.execute-api.eu-west-2.amazonaws.com/v1'"
      ]
     },
     "execution_count": 397,
     "metadata": {},
     "output_type": "execute_result"
    }
   ],
   "source": [
    "get_export_service_host()"
   ]
  },
  {
   "cell_type": "code",
   "execution_count": 398,
   "metadata": {},
   "outputs": [],
   "source": [
    "export_params={ \n",
    "\"command\": \"export-pg\", \n",
    "\"params\": { \"endpoint\": neptune_host,\n",
    "            \"profile\": \"neptune_ml\",\n",
    "            \"cloneCluster\": False\n",
    "            }, \n",
    "\"outputS3Path\": f'{s3_bucket_uri}/neptune-export',\n",
    "\"additionalParams\": {\n",
    "        \"neptune_ml\": {\n",
    "          \"version\": \"v2.0\",\n",
    "        \"targets\": [\n",
    "            {\n",
    "                \"edge\": [\"User\", \"FRIEND\", \"User\"],\n",
    "                \"type\" : \"link_prediction\"\n",
    "            }\n",
    "         ],\n",
    "         \"features\": [\n",
    "            {\n",
    "                \"node\": \"User\",\n",
    "                \"property\": \"interests\",\n",
    "                \"type\": \"category\",\n",
    "                \"separator\": \";\"\n",
    "            }\n",
    "         ]\n",
    "        }\n",
    "      },\n",
    "\"jobSize\": \"small\"}"
   ]
  },
  {
   "cell_type": "code",
   "execution_count": 399,
   "metadata": {},
   "outputs": [
    {
     "data": {
      "application/vnd.jupyter.widget-view+json": {
       "model_id": "920353ad13a549b3a674e16525ca29f0",
       "version_major": 2,
       "version_minor": 0
      },
      "text/plain": [
       "Output()"
      ]
     },
     "metadata": {},
     "output_type": "display_data"
    }
   ],
   "source": [
    "%%neptune_ml export start --export-url {get_export_service_host()} --export-iam --wait --store-to export_results\n",
    "${export_params}"
   ]
  },
  {
   "cell_type": "markdown",
   "metadata": {},
   "source": [
    "## Data processing\n",
    "The first step (data processing) processes the exported graph dataset using standard feature preprocessing techniques to prepare it for use by DGL. This step performs functions such as feature normalization for numeric data and encoding text features using word2vec. At the conclusion of this step the dataset is formatted for model training. \n"
   ]
  },
  {
   "cell_type": "code",
   "execution_count": 400,
   "metadata": {},
   "outputs": [],
   "source": [
    "# The training_job_name can be set to a unique value below, otherwise one will be auto generated\n",
    "import time \n",
    "processing_job_name=f'social-link-prediction-processing-{int(time.time())}'\n",
    "\n",
    "processing_params = f\"\"\"\n",
    "--config-file-name training-data-configuration.json\n",
    "--job-id {processing_job_name} \n",
    "--s3-input-uri {export_results['outputS3Uri']} \n",
    "--s3-processed-uri {str(s3_bucket_uri)}/preloading \"\"\""
   ]
  },
  {
   "cell_type": "code",
   "execution_count": 401,
   "metadata": {},
   "outputs": [
    {
     "data": {
      "application/vnd.jupyter.widget-view+json": {
       "model_id": "3a479995361f43f6a6f415b7910ce507",
       "version_major": 2,
       "version_minor": 0
      },
      "text/plain": [
       "Output()"
      ]
     },
     "metadata": {},
     "output_type": "display_data"
    }
   ],
   "source": [
    "%neptune_ml dataprocessing start --wait --store-to processing_results {processing_params}"
   ]
  },
  {
   "cell_type": "markdown",
   "metadata": {},
   "source": [
    "## Model training\n",
    "The second step (model training) trains the ML model that will be used for predictions. "
   ]
  },
  {
   "cell_type": "code",
   "execution_count": 402,
   "metadata": {},
   "outputs": [],
   "source": [
    "processing_job_name = 'social-link-prediction-processing-1630073857'"
   ]
  },
  {
   "cell_type": "code",
   "execution_count": 403,
   "metadata": {},
   "outputs": [],
   "source": [
    "training_job_name=f'social-link-prediction-{int(time.time())}'\n",
    "\n",
    "training_params=f\"\"\"\n",
    "--job-id {training_job_name} \n",
    "--data-processing-id {processing_job_name} \n",
    "--instance-type ml.c5.xlarge\n",
    "--s3-output-uri {str(s3_bucket_uri)}/training \"\"\""
   ]
  },
  {
   "cell_type": "code",
   "execution_count": 404,
   "metadata": {},
   "outputs": [
    {
     "data": {
      "text/plain": [
       "'social-link-prediction-processing-1630073857'"
      ]
     },
     "execution_count": 404,
     "metadata": {},
     "output_type": "execute_result"
    }
   ],
   "source": [
    "processing_job_name"
   ]
  },
  {
   "cell_type": "code",
   "execution_count": 405,
   "metadata": {},
   "outputs": [
    {
     "data": {
      "application/vnd.jupyter.widget-view+json": {
       "model_id": "37107d431888486c84329ac31cb11a27",
       "version_major": 2,
       "version_minor": 0
      },
      "text/plain": [
       "Output()"
      ]
     },
     "metadata": {},
     "output_type": "display_data"
    }
   ],
   "source": [
    "%neptune_ml training start --wait --store-to training_results {training_params}"
   ]
  },
  {
   "cell_type": "markdown",
   "metadata": {},
   "source": [
    "## Endpoint creation\n",
    "The final step is to create the inference endpoint which is an Amazon SageMaker endpoint instance that is launched with the model artifacts produced by the best training job. This endpoint will be used by our graph queries to  return the model predictions for the inputs in the request. "
   ]
  },
  {
   "cell_type": "code",
   "execution_count": null,
   "metadata": {},
   "outputs": [],
   "source": []
  },
  {
   "cell_type": "code",
   "execution_count": 406,
   "metadata": {},
   "outputs": [],
   "source": [
    "endpoint_params=f\"\"\"\n",
    "--job-id {training_job_name} \n",
    "--model-job-id {training_job_name}\"\"\""
   ]
  },
  {
   "cell_type": "code",
   "execution_count": 407,
   "metadata": {},
   "outputs": [
    {
     "data": {
      "application/vnd.jupyter.widget-view+json": {
       "model_id": "9b29d9ecd6034e28b037d5d834da5c5e",
       "version_major": 2,
       "version_minor": 0
      },
      "text/plain": [
       "Output()"
      ]
     },
     "metadata": {},
     "output_type": "display_data"
    }
   ],
   "source": [
    "%neptune_ml endpoint create --wait --store-to endpoint_results {endpoint_params}"
   ]
  },
  {
   "cell_type": "code",
   "execution_count": 355,
   "metadata": {},
   "outputs": [],
   "source": [
    "endpoint=endpoint_results['endpoint']['name']\n"
   ]
  },
  {
   "cell_type": "markdown",
   "metadata": {},
   "source": [
    "# Querying using Gremlin\n"
   ]
  },
  {
   "cell_type": "code",
   "execution_count": 356,
   "metadata": {},
   "outputs": [
    {
     "data": {
      "application/vnd.jupyter.widget-view+json": {
       "model_id": "e82bfa51bf7a4b9a90a1f93eccd0df41",
       "version_major": 2,
       "version_minor": 0
      },
      "text/plain": [
       "Tab(children=(Output(layout=Layout(max_height='600px', overflow='scroll', width='100%')), Output(layout=Layout…"
      ]
     },
     "metadata": {},
     "output_type": "display_data"
    }
   ],
   "source": [
    "%%gremlin\n",
    "g.with(\"Neptune#ml.endpoint\",\"${endpoint}\").\n",
    "    with(\"Neptune#ml.limit\",3).\n",
    "      V().hasLabel('User').has('name', 'Terry').\n",
    "        out('FRIEND').with(\"Neptune#ml.prediction\").hasLabel('User').groupCount().by('name')"
   ]
  },
  {
   "cell_type": "code",
   "execution_count": 358,
   "metadata": {},
   "outputs": [],
   "source": [
    "endpoint = 'social-l-2021-10-01-15-20-2600000-endpoint'"
   ]
  },
  {
   "cell_type": "code",
   "execution_count": 376,
   "metadata": {},
   "outputs": [
    {
     "data": {
      "application/vnd.jupyter.widget-view+json": {
       "model_id": "c88999b2bc024dab9203021e0e610c5a",
       "version_major": 2,
       "version_minor": 0
      },
      "text/plain": [
       "Tab(children=(Output(layout=Layout(max_height='600px', overflow='scroll', width='100%')), Output(layout=Layout…"
      ]
     },
     "metadata": {},
     "output_type": "display_data"
    }
   ],
   "source": [
    "%%gremlin\n",
    "g.with(\"Neptune#ml.endpoint\",\"${endpoint}\").with(\"Neptune#ml.threshold\",0.01D).\n",
    "    V().hasLabel('User').has('name', 'Terry').out('FRIEND').with(\"Neptune#ml.pred1iction\").hasLabel('User').groupCount().by('name')"
   ]
  },
  {
   "cell_type": "code",
   "execution_count": 245,
   "metadata": {},
   "outputs": [
    {
     "data": {
      "application/vnd.jupyter.widget-view+json": {
       "model_id": "4c7e1cf8c0ee464eb8241efd11e16df7",
       "version_major": 2,
       "version_minor": 0
      },
      "text/plain": [
       "Tab(children=(Output(layout=Layout(max_height='600px', overflow='scroll', width='100%')), Output(layout=Layout…"
      ]
     },
     "metadata": {},
     "output_type": "display_data"
    }
   ],
   "source": [
    "%%gremlin\n",
    "g.with(\"Neptune#ml.endpoint\",\"${endpoint}\").\n",
    "    with(\"Neptune#ml.limit\",5).\n",
    "      V().hasLabel('User').has('name', 'Sarah').\n",
    "        out('FRIEND').with(\"Neptune#ml.prediction\").hasLabel('User').groupCount().by('name')"
   ]
  },
  {
   "cell_type": "code",
   "execution_count": null,
   "metadata": {},
   "outputs": [],
   "source": []
  }
 ],
 "metadata": {
  "kernelspec": {
   "display_name": "Python 3",
   "language": "python",
   "name": "python3"
  },
  "language_info": {
   "codemirror_mode": {
    "name": "ipython",
    "version": 3
   },
   "file_extension": ".py",
   "mimetype": "text/x-python",
   "name": "python",
   "nbconvert_exporter": "python",
   "pygments_lexer": "ipython3",
   "version": "3.6.13"
  }
 },
 "nbformat": 4,
 "nbformat_minor": 2
}
